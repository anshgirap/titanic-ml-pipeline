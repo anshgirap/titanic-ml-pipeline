{
 "cells": [
  {
   "cell_type": "code",
   "execution_count": 1,
   "id": "9d0f5f27",
   "metadata": {},
   "outputs": [],
   "source": [
    "#Setup cell\n",
    "\n",
    "import pandas as pd\n",
    "titanic = pd.read_csv(\"../data/titanic.csv\")"
   ]
  },
  {
   "cell_type": "code",
   "execution_count": 2,
   "id": "517ec61a",
   "metadata": {},
   "outputs": [
    {
     "data": {
      "text/plain": [
       "Index(['PassengerId', 'Survived', 'Pclass', 'Name', 'Sex', 'Age', 'SibSp',\n",
       "       'Parch', 'Ticket', 'Fare', 'Cabin', 'Embarked'],\n",
       "      dtype='object')"
      ]
     },
     "execution_count": 2,
     "metadata": {},
     "output_type": "execute_result"
    }
   ],
   "source": [
    "titanic.columns"
   ]
  },
  {
   "cell_type": "code",
   "execution_count": 3,
   "id": "9f373390",
   "metadata": {},
   "outputs": [],
   "source": [
    "#Drop irrelevant Columns\n",
    "titanic.drop(columns=['PassengerId','Name','Ticket','Cabin'], inplace= True)"
   ]
  },
  {
   "cell_type": "code",
   "execution_count": 4,
   "id": "cdae0b68",
   "metadata": {},
   "outputs": [
    {
     "data": {
      "text/plain": [
       "Survived      0\n",
       "Pclass        0\n",
       "Sex           0\n",
       "Age         177\n",
       "SibSp         0\n",
       "Parch         0\n",
       "Fare          0\n",
       "Embarked      2\n",
       "dtype: int64"
      ]
     },
     "execution_count": 4,
     "metadata": {},
     "output_type": "execute_result"
    }
   ],
   "source": [
    "titanic.isna().sum()"
   ]
  },
  {
   "cell_type": "code",
   "execution_count": 5,
   "id": "ae82275c",
   "metadata": {},
   "outputs": [],
   "source": [
    "#Fill NaN Values\n",
    "titanic[\"Age\"] = titanic[\"Age\"].fillna(titanic[\"Age\"].median())\n",
    "titanic[\"Embarked\"] = titanic[\"Embarked\"].fillna(titanic[\"Embarked\"].mode()[0])"
   ]
  },
  {
   "cell_type": "code",
   "execution_count": 6,
   "id": "3452d701",
   "metadata": {},
   "outputs": [],
   "source": [
    "#Encode Values\n",
    "titanic[\"Sex\"] = titanic[\"Sex\"].map({\"male\": 0, \"female\": 1})\n",
    "titanic = pd.get_dummies(titanic, columns=[\"Embarked\"], drop_first=True)"
   ]
  },
  {
   "cell_type": "code",
   "execution_count": 7,
   "id": "2cfe18cf",
   "metadata": {},
   "outputs": [],
   "source": [
    "#Feature Engineer 'FamilySize'\n",
    "titanic['FamilySize'] = titanic['SibSp'] + titanic['Parch']"
   ]
  },
  {
   "cell_type": "code",
   "execution_count": 8,
   "id": "d9e65753",
   "metadata": {},
   "outputs": [],
   "source": [
    "titanic = titanic.drop(columns=[\"SibSp\", \"Parch\"])"
   ]
  },
  {
   "cell_type": "code",
   "execution_count": 9,
   "id": "b847b3f1",
   "metadata": {},
   "outputs": [],
   "source": [
    "#Save changes to csv\n",
    "titanic.to_csv('../data/titanic_clean.csv',index=False)"
   ]
  }
 ],
 "metadata": {
  "kernelspec": {
   "display_name": "Python 3",
   "language": "python",
   "name": "python3"
  },
  "language_info": {
   "codemirror_mode": {
    "name": "ipython",
    "version": 3
   },
   "file_extension": ".py",
   "mimetype": "text/x-python",
   "name": "python",
   "nbconvert_exporter": "python",
   "pygments_lexer": "ipython3",
   "version": "3.13.7"
  }
 },
 "nbformat": 4,
 "nbformat_minor": 5
}
